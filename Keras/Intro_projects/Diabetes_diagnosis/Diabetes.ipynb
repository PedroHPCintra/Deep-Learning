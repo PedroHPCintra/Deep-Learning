{
 "cells": [
  {
   "cell_type": "markdown",
   "metadata": {},
   "source": [
    "# Diagnóstico de Diabetes"
   ]
  },
  {
   "cell_type": "markdown",
   "metadata": {},
   "source": [
    "Diabetes é uma doença é uma doença metabólica crônica, caracterizada pelo grau elevado de glicose (açucar) no sangue, causando danos severos ao coração, às veias, olhos e nervos, segundo a Organização Mundial da Saúde (OMS). Ainda de acordo com a OMS, 422 milhões de pessoas no mundo possuem diabetes e 1.6 milhões morrem todos os anos devido à diabetes.\n",
    "\n",
    "Neste programa, o computador aprenderá a reconhecer os padrões importantes que caracterizam o diagnóstico de diabetes. Para isso, utilizamos uma série de dados organizados em uma tabela com vários indicadores de risco de diabetes, incluindo idade, pressão sanguínea, nível de glicose no sangue, etc.\n",
    "\n",
    "| Nº gravidez | Glicose (mg/dL) | Pressão Sanguínea (mmHg) | Espessura da pele ($\\mu$m) | Insulina | BMI | DPF | Idade | Resultado\n",
    "| --- | --- | --- | --- | --- | --- | --- | --- | --- |\n",
    "| 6 | 148 | 72 | 35 | 0 | 33.6 | 627 | 50 | Sim |\n",
    "|1 | 85 | 66 | 29 | 0 | 26.6 | 351 | 31 | Não |\n",
    "\n",
    "Para o programa, nossa tabela de dados vai identificar \"sim\" como 1, e \"não\" como 0.\n",
    "\n",
    "Começaremos o programa importanto os pacotes importantes para a criação da rede neural, treino, teste e avaliação dela. Para este programa, usamos o pacote \"pandas\" para importar nossos dados, o \"numpy\" para utilizar funções e conceitos matemáticos, o \"matplotlib\" para criar os gráficos necessários, o \"keras\" para importar bibliotecas que criam as redes neurais e as camadas delas e por ultimo o \"scipy\" para realizar integrais que eventualmente serão utilizadas."
   ]
  },
  {
   "cell_type": "code",
   "execution_count": 1,
   "metadata": {},
   "outputs": [
    {
     "name": "stderr",
     "output_type": "stream",
     "text": [
      "Using TensorFlow backend.\n"
     ]
    }
   ],
   "source": [
    "import pandas as pd\n",
    "import numpy as np\n",
    "import matplotlib.pyplot as plt\n",
    "from keras import models\n",
    "from keras import layers\n",
    "from scipy.integrate import simps"
   ]
  },
  {
   "cell_type": "markdown",
   "metadata": {},
   "source": [
    "Com nossos pacotes prontos, precisamos começar importanto nossos dados com a biblioteca do \"pandas\". Para facilitar, já iremos transformar estes dados em um array numérico"
   ]
  },
  {
   "cell_type": "code",
   "execution_count": 3,
   "metadata": {},
   "outputs": [],
   "source": [
    "Data = pd.read_csv(\"https://raw.githubusercontent.com/PedroHPCintra//Deep-Learning/master/Pima-Diabetes.csv\")\n",
    "\n",
    "#Transformar os dados em um array\n",
    "Data = np.array(Data)"
   ]
  },
  {
   "cell_type": "markdown",
   "metadata": {},
   "source": [
    "Perfeito, agora precisamos dividir estes dados em treino e teste, ou seja, parte destes dados serão usados para treinar a rede neural a identificar os padrões relevantes e outra parte dos dados será usada para testar a acurácia da nossa rede neural após o treino. Aqui, as 8 primeiras colunas dos nossos dados serão os parâmetros de avaliação e a 9º coluna compõe o gabarito. Também iremos dividir o tamanho da tabela da seguinte forma, 80% dos dados serão usados para treinar a rede neural e 20% para testa-la."
   ]
  },
  {
   "cell_type": "code",
   "execution_count": 4,
   "metadata": {},
   "outputs": [],
   "source": [
    "train_data = Data[:np.int(0.8*len(Data)),:8] #Train data\n",
    "train_label = Data[:np.int(0.8*len(Data)),8] #Gabarito do treino\n",
    "\n",
    "test_data = Data[np.int(0.8*len(Data)):,:8] #Dados de teste\n",
    "test_label = Data[np.int(0.8*len(Data)):,8] #Gabarito do teste"
   ]
  },
  {
   "cell_type": "markdown",
   "metadata": {},
   "source": [
    "Tudo ótimo até aqui, seguindo a diante, nossa próxima tarefa é construir a rede neural que irá avaliar os dados. O pacote \"models\" dentro do \"keras\" irá definir para nós o tipo de rede neural que construiremos enquanto o pacote \"layers\" nos permite definir cada camada da rede neural. Aqui usaremos uma rede neural sequencial, ou seja, as camadas estão organizadas em sequência. Usaremos camadas de rede densa, o que quer dizer que todos os neurônios da camada estão conectados à camada anterior. Nossa função de ativação do neurônio será uma sigmoide!\n",
    "\n",
    "Além disso, também incluiremos camadas de dropout entre as camadas densas para evitar um overfitting. O dropout irá excluir aleatoriamente alguns neurônios, impedindo que os padrões aprendidos pela rede neural sejam específicos demais para os dados de treino. Basicamente, nós perdemos parte da informação para que nosso padrão encontrado seja generalizado o suficiente."
   ]
  },
  {
   "cell_type": "code",
   "execution_count": 5,
   "metadata": {},
   "outputs": [],
   "source": [
    "network = models.Sequential()\n",
    "network.add(layers.Dense(1000, activation = 'sigmoid', input_shape = (8,)))\n",
    "network.add(layers.Dropout(0.3))\n",
    "network.add(layers.Dense(500, activation = 'sigmoid'))\n",
    "network.add(layers.Dropout(0.2))\n",
    "network.add(layers.Dense(1, activation = 'sigmoid'))\n",
    "network.compile(optimizer = 'adam',\n",
    "                loss = 'binary_crossentropy',\n",
    "                metrics = ['accuracy'])"
   ]
  },
  {
   "cell_type": "markdown",
   "metadata": {},
   "source": [
    "Vamos agora treinar a rede neural com os dados. Devemos determinar agora as épocas de treino. Na primeira época a rede neural atribuirá algumas condições iniciais para os pesos de cada uma das 8 variáveis, após o treino a rede irá encontrar um valor para os pesos que será mais adequado para o modelo. Na época seguinte, o programa irá avaliar os dados novamente, mas as condições iniciais serão aquelas que ele anterioremente achou como sendo mais adequadas. E assim por diante até ele terminar todas as épocas que determinamos.\n",
    "\n",
    "Outro parâmetro importante é o \"batch_size\" que vai determinar a taxa de atualização dos pesos dados para cada entrada."
   ]
  },
  {
   "cell_type": "code",
   "execution_count": 6,
   "metadata": {},
   "outputs": [
    {
     "name": "stdout",
     "output_type": "stream",
     "text": [
      "Epoch 1/100\n",
      "605/605 [==============================] - 3s 5ms/step - loss: 0.7636 - accuracy: 0.4347\n",
      "Epoch 2/100\n",
      "605/605 [==============================] - 0s 182us/step - loss: 1.0461 - accuracy: 0.6545\n",
      "Epoch 3/100\n",
      "605/605 [==============================] - 0s 89us/step - loss: 0.8289 - accuracy: 0.6545\n",
      "Epoch 4/100\n",
      "605/605 [==============================] - 0s 101us/step - loss: 0.6773 - accuracy: 0.5686\n",
      "Epoch 5/100\n",
      "605/605 [==============================] - 0s 104us/step - loss: 0.8524 - accuracy: 0.4050\n",
      "Epoch 6/100\n",
      "605/605 [==============================] - 0s 125us/step - loss: 0.6360 - accuracy: 0.6430\n",
      "Epoch 7/100\n",
      "605/605 [==============================] - 0s 166us/step - loss: 0.7019 - accuracy: 0.6545\n",
      "Epoch 8/100\n",
      "605/605 [==============================] - 0s 173us/step - loss: 0.7515 - accuracy: 0.6562\n",
      "Epoch 9/100\n",
      "605/605 [==============================] - 0s 107us/step - loss: 0.6532 - accuracy: 0.6612\n",
      "Epoch 10/100\n",
      "605/605 [==============================] - 0s 159us/step - loss: 0.6107 - accuracy: 0.6628\n",
      "Epoch 11/100\n",
      "605/605 [==============================] - 0s 124us/step - loss: 0.6804 - accuracy: 0.6050\n",
      "Epoch 12/100\n",
      "605/605 [==============================] - 0s 134us/step - loss: 0.6326 - accuracy: 0.6612\n",
      "Epoch 13/100\n",
      "605/605 [==============================] - 0s 152us/step - loss: 0.5800 - accuracy: 0.6860\n",
      "Epoch 14/100\n",
      "605/605 [==============================] - 0s 141us/step - loss: 0.6169 - accuracy: 0.6694\n",
      "Epoch 15/100\n",
      "605/605 [==============================] - 0s 96us/step - loss: 0.6241 - accuracy: 0.6744\n",
      "Epoch 16/100\n",
      "605/605 [==============================] - 0s 108us/step - loss: 0.5957 - accuracy: 0.6860\n",
      "Epoch 17/100\n",
      "605/605 [==============================] - 0s 115us/step - loss: 0.5702 - accuracy: 0.6893\n",
      "Epoch 18/100\n",
      "605/605 [==============================] - 0s 129us/step - loss: 0.5930 - accuracy: 0.6496\n",
      "Epoch 19/100\n",
      "605/605 [==============================] - 0s 127us/step - loss: 0.5904 - accuracy: 0.6860\n",
      "Epoch 20/100\n",
      "605/605 [==============================] - 0s 130us/step - loss: 0.5579 - accuracy: 0.7124\n",
      "Epoch 21/100\n",
      "605/605 [==============================] - 0s 131us/step - loss: 0.5495 - accuracy: 0.7058\n",
      "Epoch 22/100\n",
      "605/605 [==============================] - 0s 141us/step - loss: 0.5738 - accuracy: 0.7041\n",
      "Epoch 23/100\n",
      "605/605 [==============================] - 0s 127us/step - loss: 0.5626 - accuracy: 0.7058\n",
      "Epoch 24/100\n",
      "605/605 [==============================] - 0s 137us/step - loss: 0.5454 - accuracy: 0.7240\n",
      "Epoch 25/100\n",
      "605/605 [==============================] - 0s 106us/step - loss: 0.5479 - accuracy: 0.7074\n",
      "Epoch 26/100\n",
      "605/605 [==============================] - 0s 145us/step - loss: 0.5579 - accuracy: 0.6942\n",
      "Epoch 27/100\n",
      "605/605 [==============================] - 0s 175us/step - loss: 0.5304 - accuracy: 0.7372\n",
      "Epoch 28/100\n",
      "605/605 [==============================] - 0s 116us/step - loss: 0.5288 - accuracy: 0.7306\n",
      "Epoch 29/100\n",
      "605/605 [==============================] - 0s 124us/step - loss: 0.5416 - accuracy: 0.7190\n",
      "Epoch 30/100\n",
      "605/605 [==============================] - 0s 139us/step - loss: 0.5344 - accuracy: 0.7289\n",
      "Epoch 31/100\n",
      "605/605 [==============================] - 0s 145us/step - loss: 0.5158 - accuracy: 0.7438\n",
      "Epoch 32/100\n",
      "605/605 [==============================] - 0s 172us/step - loss: 0.5308 - accuracy: 0.7306\n",
      "Epoch 33/100\n",
      "605/605 [==============================] - 0s 139us/step - loss: 0.5103 - accuracy: 0.7405\n",
      "Epoch 34/100\n",
      "605/605 [==============================] - 0s 107us/step - loss: 0.5174 - accuracy: 0.7372\n",
      "Epoch 35/100\n",
      "605/605 [==============================] - 0s 124us/step - loss: 0.5011 - accuracy: 0.7620\n",
      "Epoch 36/100\n",
      "605/605 [==============================] - 0s 168us/step - loss: 0.5041 - accuracy: 0.7570\n",
      "Epoch 37/100\n",
      "605/605 [==============================] - 0s 146us/step - loss: 0.5021 - accuracy: 0.7620\n",
      "Epoch 38/100\n",
      "605/605 [==============================] - 0s 160us/step - loss: 0.5003 - accuracy: 0.7455\n",
      "Epoch 39/100\n",
      "605/605 [==============================] - 0s 115us/step - loss: 0.4987 - accuracy: 0.7471\n",
      "Epoch 40/100\n",
      "605/605 [==============================] - 0s 139us/step - loss: 0.4965 - accuracy: 0.7603\n",
      "Epoch 41/100\n",
      "605/605 [==============================] - 0s 164us/step - loss: 0.4911 - accuracy: 0.7669\n",
      "Epoch 42/100\n",
      "605/605 [==============================] - 0s 136us/step - loss: 0.4845 - accuracy: 0.7702\n",
      "Epoch 43/100\n",
      "605/605 [==============================] - 0s 167us/step - loss: 0.4922 - accuracy: 0.7554\n",
      "Epoch 44/100\n",
      "605/605 [==============================] - 0s 94us/step - loss: 0.5028 - accuracy: 0.7504\n",
      "Epoch 45/100\n",
      "605/605 [==============================] - 0s 183us/step - loss: 0.4751 - accuracy: 0.7719\n",
      "Epoch 46/100\n",
      "605/605 [==============================] - 0s 150us/step - loss: 0.4878 - accuracy: 0.7620\n",
      "Epoch 47/100\n",
      "605/605 [==============================] - 0s 96us/step - loss: 0.4746 - accuracy: 0.7686\n",
      "Epoch 48/100\n",
      "605/605 [==============================] - 0s 154us/step - loss: 0.4785 - accuracy: 0.7769\n",
      "Epoch 49/100\n",
      "605/605 [==============================] - 0s 171us/step - loss: 0.4790 - accuracy: 0.7537\n",
      "Epoch 50/100\n",
      "605/605 [==============================] - 0s 110us/step - loss: 0.4744 - accuracy: 0.7686\n",
      "Epoch 51/100\n",
      "605/605 [==============================] - 0s 155us/step - loss: 0.4639 - accuracy: 0.7570\n",
      "Epoch 52/100\n",
      "605/605 [==============================] - 0s 158us/step - loss: 0.4709 - accuracy: 0.7570\n",
      "Epoch 53/100\n",
      "605/605 [==============================] - 0s 113us/step - loss: 0.4684 - accuracy: 0.7587\n",
      "Epoch 54/100\n",
      "605/605 [==============================] - 0s 144us/step - loss: 0.4736 - accuracy: 0.7636\n",
      "Epoch 55/100\n",
      "605/605 [==============================] - 0s 138us/step - loss: 0.4656 - accuracy: 0.7653\n",
      "Epoch 56/100\n",
      "605/605 [==============================] - 0s 134us/step - loss: 0.4638 - accuracy: 0.7934\n",
      "Epoch 57/100\n",
      "605/605 [==============================] - 0s 112us/step - loss: 0.4612 - accuracy: 0.7884\n",
      "Epoch 58/100\n",
      "605/605 [==============================] - 0s 159us/step - loss: 0.4681 - accuracy: 0.7686\n",
      "Epoch 59/100\n",
      "605/605 [==============================] - 0s 146us/step - loss: 0.4567 - accuracy: 0.7802\n",
      "Epoch 60/100\n",
      "605/605 [==============================] - 0s 155us/step - loss: 0.4586 - accuracy: 0.7702\n",
      "Epoch 61/100\n",
      "605/605 [==============================] - 0s 158us/step - loss: 0.4592 - accuracy: 0.7719\n",
      "Epoch 62/100\n",
      "605/605 [==============================] - 0s 129us/step - loss: 0.4607 - accuracy: 0.7785\n",
      "Epoch 63/100\n",
      "605/605 [==============================] - 0s 122us/step - loss: 0.4532 - accuracy: 0.7868\n",
      "Epoch 64/100\n",
      "605/605 [==============================] - 0s 104us/step - loss: 0.4575 - accuracy: 0.7785\n",
      "Epoch 65/100\n",
      "605/605 [==============================] - 0s 135us/step - loss: 0.4463 - accuracy: 0.7851\n",
      "Epoch 66/100\n",
      "605/605 [==============================] - 0s 134us/step - loss: 0.4490 - accuracy: 0.7769\n",
      "Epoch 67/100\n",
      "605/605 [==============================] - 0s 137us/step - loss: 0.4479 - accuracy: 0.7851\n",
      "Epoch 68/100\n",
      "605/605 [==============================] - 0s 136us/step - loss: 0.4511 - accuracy: 0.7802\n",
      "Epoch 69/100\n",
      "605/605 [==============================] - 0s 111us/step - loss: 0.4493 - accuracy: 0.7835\n",
      "Epoch 70/100\n",
      "605/605 [==============================] - 0s 109us/step - loss: 0.4578 - accuracy: 0.7818\n",
      "Epoch 71/100\n",
      "605/605 [==============================] - 0s 126us/step - loss: 0.4471 - accuracy: 0.7702\n",
      "Epoch 72/100\n",
      "605/605 [==============================] - 0s 114us/step - loss: 0.4418 - accuracy: 0.7917\n",
      "Epoch 73/100\n",
      "605/605 [==============================] - 0s 164us/step - loss: 0.4518 - accuracy: 0.7785\n",
      "Epoch 74/100\n",
      "605/605 [==============================] - 0s 169us/step - loss: 0.4519 - accuracy: 0.7603\n",
      "Epoch 75/100\n",
      "605/605 [==============================] - 0s 177us/step - loss: 0.4531 - accuracy: 0.7702\n",
      "Epoch 76/100\n",
      "605/605 [==============================] - 0s 170us/step - loss: 0.4324 - accuracy: 0.7901\n",
      "Epoch 77/100\n",
      "605/605 [==============================] - 0s 215us/step - loss: 0.4377 - accuracy: 0.7785\n",
      "Epoch 78/100\n",
      "605/605 [==============================] - 0s 141us/step - loss: 0.4301 - accuracy: 0.7851\n",
      "Epoch 79/100\n",
      "605/605 [==============================] - 0s 160us/step - loss: 0.4428 - accuracy: 0.7785\n",
      "Epoch 80/100\n",
      "605/605 [==============================] - 0s 190us/step - loss: 0.4491 - accuracy: 0.7702\n",
      "Epoch 81/100\n",
      "605/605 [==============================] - 0s 226us/step - loss: 0.4513 - accuracy: 0.7769\n",
      "Epoch 82/100\n",
      "605/605 [==============================] - 0s 201us/step - loss: 0.4361 - accuracy: 0.7934\n",
      "Epoch 83/100\n",
      "605/605 [==============================] - 0s 183us/step - loss: 0.4456 - accuracy: 0.7868\n",
      "Epoch 84/100\n",
      "605/605 [==============================] - 0s 92us/step - loss: 0.4487 - accuracy: 0.7901\n",
      "Epoch 85/100\n",
      "605/605 [==============================] - 0s 144us/step - loss: 0.4392 - accuracy: 0.7785\n",
      "Epoch 86/100\n",
      "605/605 [==============================] - 0s 126us/step - loss: 0.4318 - accuracy: 0.8000\n",
      "Epoch 87/100\n",
      "605/605 [==============================] - 0s 105us/step - loss: 0.4413 - accuracy: 0.7669\n",
      "Epoch 88/100\n",
      "605/605 [==============================] - 0s 162us/step - loss: 0.4451 - accuracy: 0.7686\n",
      "Epoch 89/100\n",
      "605/605 [==============================] - 0s 125us/step - loss: 0.4405 - accuracy: 0.7884\n",
      "Epoch 90/100\n",
      "605/605 [==============================] - 0s 132us/step - loss: 0.4372 - accuracy: 0.7736\n",
      "Epoch 91/100\n",
      "605/605 [==============================] - 0s 112us/step - loss: 0.4243 - accuracy: 0.8099\n",
      "Epoch 92/100\n",
      "605/605 [==============================] - 0s 133us/step - loss: 0.4243 - accuracy: 0.8050\n",
      "Epoch 93/100\n",
      "605/605 [==============================] - 0s 126us/step - loss: 0.4240 - accuracy: 0.7917\n",
      "Epoch 94/100\n",
      "605/605 [==============================] - 0s 123us/step - loss: 0.4438 - accuracy: 0.7884\n",
      "Epoch 95/100\n",
      "605/605 [==============================] - 0s 107us/step - loss: 0.4285 - accuracy: 0.8050\n",
      "Epoch 96/100\n",
      "605/605 [==============================] - 0s 138us/step - loss: 0.4308 - accuracy: 0.8033\n",
      "Epoch 97/100\n",
      "605/605 [==============================] - 0s 169us/step - loss: 0.4295 - accuracy: 0.7868\n",
      "Epoch 98/100\n",
      "605/605 [==============================] - 0s 138us/step - loss: 0.4354 - accuracy: 0.7967\n",
      "Epoch 99/100\n",
      "605/605 [==============================] - 0s 180us/step - loss: 0.4303 - accuracy: 0.7967\n",
      "Epoch 100/100\n",
      "605/605 [==============================] - 0s 174us/step - loss: 0.4366 - accuracy: 0.7769\n"
     ]
    },
    {
     "data": {
      "text/plain": [
       "<keras.callbacks.callbacks.History at 0x7fe95ba9cc90>"
      ]
     },
     "execution_count": 6,
     "metadata": {},
     "output_type": "execute_result"
    }
   ],
   "source": [
    "network.fit(train_data, train_label, epochs = 100, batch_size = 605)"
   ]
  },
  {
   "cell_type": "markdown",
   "metadata": {},
   "source": [
    "Após o treino, nossa rede neural acertou 77.7% das vezes. Legal, vamos agora testar o modelo nos dados de teste"
   ]
  },
  {
   "cell_type": "code",
   "execution_count": 7,
   "metadata": {},
   "outputs": [
    {
     "name": "stdout",
     "output_type": "stream",
     "text": [
      "152/152 [==============================] - 0s 3ms/step\n",
      "test_acc =  0.7631579041481018\n"
     ]
    }
   ],
   "source": [
    "test_loss, test_acc  = network.evaluate(test_data, test_label)\n",
    "print('test_acc = ', test_acc)"
   ]
  },
  {
   "cell_type": "markdown",
   "metadata": {},
   "source": [
    "Após o teste, a rede neural acertou 76.3% dos resultados!\n",
    "\n",
    "Uma outra forma de observarmos o desempenho da nossa rede é através da curva ROC. ROC quer dizer Reciever Operating Characteristic, e a curva ROC nos da a performance do nosso modelo em termos de dois parâmetros, a taxa de falso positivos (FPR) e a taxa de verdadeiros positivos (TPR).\n",
    "\n",
    "Cada um deles é calculado da seguinte forma\n",
    "\n",
    "$$TPR = \\frac{TP}{TP + FN}$$\n",
    "\n",
    "$$FPR = \\frac{FP}{FP + TN}$$\n",
    "\n",
    "A área embaixo da curva ROC nos da a porcentagem de previsões corretas pelo modelo"
   ]
  },
  {
   "cell_type": "code",
   "execution_count": 13,
   "metadata": {},
   "outputs": [
    {
     "data": {
      "text/plain": [
       "Text(0.5, 1.0, 'ROC curve')"
      ]
     },
     "execution_count": 13,
     "metadata": {},
     "output_type": "execute_result"
    },
    {
     "data": {
      "image/png": "[encoded data removed]",
      "text/plain": [
       "<Figure size 432x288 with 1 Axes>"
      ]
     },
     "metadata": {
      "needs_background": "light"
     },
     "output_type": "display_data"
    }
   ],
   "source": [
    "pred = network.predict(test_data) #gera previsões para os dados de teste\n",
    "\n",
    "th = np.linspace(0, 1, 100) #crio um threshold the classificação que vai variar\n",
    "\n",
    "def ROC(th, pred, test_label):\n",
    "    FPR = np.zeros(len(th))\n",
    "    TPR = np.zeros(len(th))\n",
    "    \n",
    "    N = pred[np.where(test_label == 0)]\n",
    "    P = pred[np.where(test_label == 1)]\n",
    "    \n",
    "    for i in range(len(th)):\n",
    "        FN = len(np.where(P <= th[i])[0])\n",
    "        FP = len(np.where(N > th[i])[0])\n",
    "        TN = len(np.where(N <= th[i])[0])\n",
    "        TP = len(np.where(P > th[i])[0])\n",
    "        \n",
    "        FPR[i] = FP/(FP + TN)\n",
    "        TPR[i] = TP/(TP + FN)\n",
    "        \n",
    "        result = np.concatenate((FPR, TPR)).reshape(2, len(th))\n",
    "        \n",
    "    return result[np.argsort(result[:,0])]\n",
    "\n",
    "plt.grid(True, alpha = 0.4)\n",
    "plt.plot(*ROC(th, pred, test_label), color = 'blue')\n",
    "plt.xlabel('False positive rate')\n",
    "plt.ylabel('True positive rate')\n",
    "plt.title('ROC curve')"
   ]
  },
  {
   "cell_type": "code",
   "execution_count": 16,
   "metadata": {},
   "outputs": [
    {
     "name": "stdout",
     "output_type": "stream",
     "text": [
      "Área da curva:  0.8391179839633448\n"
     ]
    }
   ],
   "source": [
    "roc = ROC(th, pred, test_label).T\n",
    "\n",
    "# Exclui valores repetidos para a integração\n",
    "r = roc[:1]\n",
    "for i in range(1,len(roc)):\n",
    "\n",
    "  if (roc[i,0] != roc[i-1,0]):\n",
    "\n",
    "    r = np.append(r, roc[i])\n",
    "\n",
    "# Curva ROC sem valores repetidos\n",
    "roc = r.reshape((np.int(len(r)/2), 2))\n",
    "\n",
    "S = -simps(roc[:,1], roc[:,0])\n",
    "print('Área da curva: ', S)"
   ]
  },
  {
   "cell_type": "markdown",
   "metadata": {},
   "source": [
    "## Referências\n",
    "\n",
    "[1]. World Health Organization, Health Topics, Diabetes. https://www.who.int/health-topics/diabetes#tab=tab_1\n",
    "\n",
    "[2]. Machine Learning Crash Course, Google. https://developers.google.com/machine-learning/crash-course/classification/roc-and-auc"
   ]
  }
 ],
 "metadata": {
  "kernelspec": {
   "display_name": "Python 3",
   "language": "python",
   "name": "python3"
  },
  "language_info": {
   "codemirror_mode": {
    "name": "ipython",
    "version": 3
   },
   "file_extension": ".py",
   "mimetype": "text/x-python",
   "name": "python",
   "nbconvert_exporter": "python",
   "pygments_lexer": "ipython3",
   "version": "3.7.4"
  }
 },
 "nbformat": 4,
 "nbformat_minor": 2
}
